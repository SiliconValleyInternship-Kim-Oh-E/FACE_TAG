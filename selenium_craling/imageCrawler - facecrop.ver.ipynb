{
 "cells": [
  {
   "cell_type": "code",
   "execution_count": 1,
   "metadata": {},
   "outputs": [],
   "source": [
    "target = [\n",
    "    'daniel radcliffe',\n",
    "    'emma watson',\n",
    "]\n"
   ]
  },
  {
   "cell_type": "code",
   "execution_count": 2,
   "metadata": {},
   "outputs": [
    {
     "name": "stdout",
     "output_type": "stream",
     "text": [
      "Requirement already satisfied: selenium in c:\\users\\seung\\appdata\\local\\programs\\python\\python37\\lib\\site-packages (3.141.0)\n",
      "Requirement already satisfied: urllib3 in c:\\users\\seung\\appdata\\local\\programs\\python\\python37\\lib\\site-packages (from selenium) (1.24.1)\n",
      "Note: you may need to restart the kernel to use updated packages.\n"
     ]
    }
   ],
   "source": [
    "pip install selenium"
   ]
  },
  {
   "cell_type": "code",
   "execution_count": 3,
   "metadata": {
    "scrolled": true
   },
   "outputs": [
    {
     "name": "stdout",
     "output_type": "stream",
     "text": [
      "Requirement already satisfied: autocrop in c:\\users\\seung\\appdata\\local\\programs\\python\\python37\\lib\\site-packages (1.1.1)\n",
      "Requirement already satisfied: Pillow~=8.1.0 in c:\\users\\seung\\appdata\\local\\programs\\python\\python37\\lib\\site-packages (from autocrop) (8.1.2)\n",
      "Requirement already satisfied: numpy>=1.10 in c:\\users\\seung\\appdata\\local\\programs\\python\\python37\\lib\\site-packages (from autocrop) (1.16.2)\n",
      "Requirement already satisfied: opencv-python<5,>=3 in c:\\users\\seung\\appdata\\local\\programs\\python\\python37\\lib\\site-packages (from autocrop) (4.5.2.54)\n",
      "Note: you may need to restart the kernel to use updated packages.\n"
     ]
    }
   ],
   "source": [
    "pip install autocrop"
   ]
  },
  {
   "cell_type": "code",
   "execution_count": 4,
   "metadata": {},
   "outputs": [
    {
     "name": "stdout",
     "output_type": "stream",
     "text": [
      "Requirement already satisfied: apscheduler in c:\\users\\seung\\appdata\\local\\programs\\python\\python37\\lib\\site-packages (3.7.0)\n",
      "Requirement already satisfied: tzlocal~=2.0 in c:\\users\\seung\\appdata\\local\\programs\\python\\python37\\lib\\site-packages (from apscheduler) (2.1)\n",
      "Requirement already satisfied: six>=1.4.0 in c:\\users\\seung\\appdata\\local\\programs\\python\\python37\\lib\\site-packages (from apscheduler) (1.12.0)\n",
      "Requirement already satisfied: pytz in c:\\users\\seung\\appdata\\local\\programs\\python\\python37\\lib\\site-packages (from apscheduler) (2021.1)\n",
      "Requirement already satisfied: setuptools>=0.7 in c:\\users\\seung\\appdata\\local\\programs\\python\\python37\\lib\\site-packages (from apscheduler) (40.8.0)\n",
      "Note: you may need to restart the kernel to use updated packages.\n"
     ]
    }
   ],
   "source": [
    "pip install apscheduler"
   ]
  },
  {
   "cell_type": "code",
   "execution_count": 5,
   "metadata": {},
   "outputs": [],
   "source": [
    "#크롤링이 안될때 xpath 변경 확인 https://hidden-loca.tistory.com/25"
   ]
  },
  {
   "cell_type": "code",
   "execution_count": 6,
   "metadata": {
    "jupyter": {
     "outputs_hidden": true
    },
    "tags": []
   },
   "outputs": [
    {
     "name": "stdout",
     "output_type": "stream",
     "text": [
      "daniel radcliffe crawling ready\n"
     ]
    },
    {
     "name": "stderr",
     "output_type": "stream",
     "text": [
      "Exception in thread Thread-11:\n",
      "Traceback (most recent call last):\n",
      "  File \"c:\\users\\seung\\appdata\\local\\programs\\python\\python37\\lib\\threading.py\", line 917, in _bootstrap_inner\n",
      "    self.run()\n",
      "  File \"c:\\users\\seung\\appdata\\local\\programs\\python\\python37\\lib\\threading.py\", line 865, in run\n",
      "    self._target(*self._args, **self._kwargs)\n",
      "  File \"<ipython-input-6-2060372e6f98>\", line 38, in findI\n",
      "    urllib.request.urlretrieve(imgUrl, name + str(count) + \".jpg\")\n",
      "  File \"c:\\users\\seung\\appdata\\local\\programs\\python\\python37\\lib\\urllib\\request.py\", line 247, in urlretrieve\n",
      "    with contextlib.closing(urlopen(url, data)) as fp:\n",
      "  File \"c:\\users\\seung\\appdata\\local\\programs\\python\\python37\\lib\\urllib\\request.py\", line 222, in urlopen\n",
      "    return opener.open(url, data, timeout)\n",
      "  File \"c:\\users\\seung\\appdata\\local\\programs\\python\\python37\\lib\\urllib\\request.py\", line 531, in open\n",
      "    response = meth(req, response)\n",
      "  File \"c:\\users\\seung\\appdata\\local\\programs\\python\\python37\\lib\\urllib\\request.py\", line 641, in http_response\n",
      "    'http', request, response, code, msg, hdrs)\n",
      "  File \"c:\\users\\seung\\appdata\\local\\programs\\python\\python37\\lib\\urllib\\request.py\", line 569, in error\n",
      "    return self._call_chain(*args)\n",
      "  File \"c:\\users\\seung\\appdata\\local\\programs\\python\\python37\\lib\\urllib\\request.py\", line 503, in _call_chain\n",
      "    result = func(*args)\n",
      "  File \"c:\\users\\seung\\appdata\\local\\programs\\python\\python37\\lib\\urllib\\request.py\", line 649, in http_error_default\n",
      "    raise HTTPError(req.full_url, code, msg, hdrs, fp)\n",
      "urllib.error.HTTPError: HTTP Error 403: Forbidden\n",
      "\n"
     ]
    },
    {
     "name": "stdout",
     "output_type": "stream",
     "text": [
      "daniel radcliffe------------------ complete\n",
      "emma watson crawling ready\n"
     ]
    },
    {
     "name": "stderr",
     "output_type": "stream",
     "text": [
      "Exception in thread Thread-17:\n",
      "Traceback (most recent call last):\n",
      "  File \"c:\\users\\seung\\appdata\\local\\programs\\python\\python37\\lib\\threading.py\", line 917, in _bootstrap_inner\n",
      "    self.run()\n",
      "  File \"c:\\users\\seung\\appdata\\local\\programs\\python\\python37\\lib\\threading.py\", line 865, in run\n",
      "    self._target(*self._args, **self._kwargs)\n",
      "  File \"<ipython-input-6-2060372e6f98>\", line 34, in findI\n",
      "    image.click()\n",
      "  File \"c:\\users\\seung\\appdata\\local\\programs\\python\\python37\\lib\\site-packages\\selenium\\webdriver\\remote\\webelement.py\", line 80, in click\n",
      "    self._execute(Command.CLICK_ELEMENT)\n",
      "  File \"c:\\users\\seung\\appdata\\local\\programs\\python\\python37\\lib\\site-packages\\selenium\\webdriver\\remote\\webelement.py\", line 633, in _execute\n",
      "    return self._parent.execute(command, params)\n",
      "  File \"c:\\users\\seung\\appdata\\local\\programs\\python\\python37\\lib\\site-packages\\selenium\\webdriver\\remote\\webdriver.py\", line 321, in execute\n",
      "    self.error_handler.check_response(response)\n",
      "  File \"c:\\users\\seung\\appdata\\local\\programs\\python\\python37\\lib\\site-packages\\selenium\\webdriver\\remote\\errorhandler.py\", line 242, in check_response\n",
      "    raise exception_class(message, screen, stacktrace)\n",
      "selenium.common.exceptions.ElementClickInterceptedException: Message: element click intercepted: Element <img src=\"data:image/jpeg;base64,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\" data-deferred=\"1\" class=\"rg_i Q4LuWd\" jsname=\"Q4LuWd\" width=\"165\" height=\"195\" alt=\"엠마 왓슨 - 위키백과, 우리 모두의 백과사전\" data-iml=\"1152.5999999940395\" data-atf=\"true\"> is not clickable at point (102, 97). Other element would receive the click: <a href=\"/search?q=emma+watson&amp;tbm=isch&amp;hl=ko&amp;chips=q:%EC%97%A0%EB%A7%88+%EC%99%93%EC%8A%A8,g_1:%ED%95%B4%EB%A6%AC+%ED%8F%AC%ED%84%B0:R_5D9JpXda8%3D&amp;bih=674&amp;biw=1036&amp;sa=X&amp;ved=2ahUKEwit5J3d_czxAhWK32EKHSgkDlAQ4lYoAHoECAEQDw\" data-navigation=\"server\" jslog=\"11106\" aria-label=\"해리 포터\" class=\"F9PbJd IJRrpb xKddTc\">...</a>\n",
      "  (Session info: chrome=91.0.4472.124)\n",
      "\n",
      "\n"
     ]
    },
    {
     "name": "stderr",
     "output_type": "stream",
     "text": [
      "Exception in thread Thread-18:\n",
      "Traceback (most recent call last):\n",
      "  File \"c:\\users\\seung\\appdata\\local\\programs\\python\\python37\\lib\\threading.py\", line 917, in _bootstrap_inner\n",
      "    self.run()\n",
      "  File \"c:\\users\\seung\\appdata\\local\\programs\\python\\python37\\lib\\threading.py\", line 865, in run\n",
      "    self._target(*self._args, **self._kwargs)\n",
      "  File \"<ipython-input-6-2060372e6f98>\", line 34, in findI\n",
      "    image.click()\n",
      "  File \"c:\\users\\seung\\appdata\\local\\programs\\python\\python37\\lib\\site-packages\\selenium\\webdriver\\remote\\webelement.py\", line 80, in click\n",
      "    self._execute(Command.CLICK_ELEMENT)\n",
      "  File \"c:\\users\\seung\\appdata\\local\\programs\\python\\python37\\lib\\site-packages\\selenium\\webdriver\\remote\\webelement.py\", line 633, in _execute\n",
      "    return self._parent.execute(command, params)\n",
      "  File \"c:\\users\\seung\\appdata\\local\\programs\\python\\python37\\lib\\site-packages\\selenium\\webdriver\\remote\\webdriver.py\", line 321, in execute\n",
      "    self.error_handler.check_response(response)\n",
      "  File \"c:\\users\\seung\\appdata\\local\\programs\\python\\python37\\lib\\site-packages\\selenium\\webdriver\\remote\\errorhandler.py\", line 242, in check_response\n",
      "    raise exception_class(message, screen, stacktrace)\n",
      "selenium.common.exceptions.ElementClickInterceptedException: Message: element click intercepted: Element <img src=\"data:image/jpeg;base64,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\" data-deferred=\"1\" class=\"rg_i Q4LuWd\" jsname=\"Q4LuWd\" width=\"300\" height=\"169\" alt=\"Emma Watson | Facebook\" data-iml=\"1164.4000000059605\" data-atf=\"true\"> is not clickable at point (355, 98). Other element would receive the click: <div jsaction=\"rcuQ6b:trigger.PIRLh;\" class=\"PKhmud sc-it tzVsfd\" role=\"listitem\">...</div>\n",
      "  (Session info: chrome=91.0.4472.124)\n",
      "\n",
      "\n"
     ]
    },
    {
     "name": "stderr",
     "output_type": "stream",
     "text": [
      "Exception in thread Thread-19:\n",
      "Traceback (most recent call last):\n",
      "  File \"c:\\users\\seung\\appdata\\local\\programs\\python\\python37\\lib\\threading.py\", line 917, in _bootstrap_inner\n",
      "    self.run()\n",
      "  File \"c:\\users\\seung\\appdata\\local\\programs\\python\\python37\\lib\\threading.py\", line 865, in run\n",
      "    self._target(*self._args, **self._kwargs)\n",
      "  File \"<ipython-input-6-2060372e6f98>\", line 34, in findI\n",
      "    image.click()\n",
      "  File \"c:\\users\\seung\\appdata\\local\\programs\\python\\python37\\lib\\site-packages\\selenium\\webdriver\\remote\\webelement.py\", line 80, in click\n",
      "    self._execute(Command.CLICK_ELEMENT)\n",
      "  File \"c:\\users\\seung\\appdata\\local\\programs\\python\\python37\\lib\\site-packages\\selenium\\webdriver\\remote\\webelement.py\", line 633, in _execute\n",
      "    return self._parent.execute(command, params)\n",
      "  File \"c:\\users\\seung\\appdata\\local\\programs\\python\\python37\\lib\\site-packages\\selenium\\webdriver\\remote\\webdriver.py\", line 321, in execute\n",
      "    self.error_handler.check_response(response)\n",
      "  File \"c:\\users\\seung\\appdata\\local\\programs\\python\\python37\\lib\\site-packages\\selenium\\webdriver\\remote\\errorhandler.py\", line 242, in check_response\n",
      "    raise exception_class(message, screen, stacktrace)\n",
      "selenium.common.exceptions.ElementClickInterceptedException: Message: element click intercepted: Element <img src=\"data:image/jpeg;base64,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\" data-deferred=\"1\" class=\"rg_i Q4LuWd\" jsname=\"Q4LuWd\" width=\"156\" height=\"195\" alt=\"엠마 왓슨 (Emma Watson) 필모그래피\" data-iml=\"1164.5999999940395\" data-atf=\"true\"> is not clickable at point (603, 97). Other element would receive the click: <a href=\"/search?q=emma+watson&amp;tbm=isch&amp;hl=ko&amp;chips=q:%EC%97%A0%EB%A7%88+%EC%99%93%EC%8A%A8,g_1:%EA%B3%A0%ED%99%94%EC%A7%88:Mf6ywP04TM4%3D&amp;bih=674&amp;biw=1036&amp;sa=X&amp;ved=2ahUKEwit5J3d_czxAhWK32EKHSgkDlAQ4lYoA3oECAEQFQ\" data-navigation=\"server\" jslog=\"11106\" aria-label=\"고화질\" class=\"F9PbJd IJRrpb xKddTc\">...</a>\n",
      "  (Session info: chrome=91.0.4472.124)\n",
      "\n",
      "\n"
     ]
    },
    {
     "name": "stderr",
     "output_type": "stream",
     "text": [
      "Exception in thread Thread-20:\n",
      "Traceback (most recent call last):\n",
      "  File \"c:\\users\\seung\\appdata\\local\\programs\\python\\python37\\lib\\threading.py\", line 917, in _bootstrap_inner\n",
      "    self.run()\n",
      "  File \"c:\\users\\seung\\appdata\\local\\programs\\python\\python37\\lib\\threading.py\", line 865, in run\n",
      "    self._target(*self._args, **self._kwargs)\n",
      "  File \"<ipython-input-6-2060372e6f98>\", line 34, in findI\n",
      "    image.click()\n",
      "  File \"c:\\users\\seung\\appdata\\local\\programs\\python\\python37\\lib\\site-packages\\selenium\\webdriver\\remote\\webelement.py\", line 80, in click\n",
      "    self._execute(Command.CLICK_ELEMENT)\n",
      "  File \"c:\\users\\seung\\appdata\\local\\programs\\python\\python37\\lib\\site-packages\\selenium\\webdriver\\remote\\webelement.py\", line 633, in _execute\n",
      "    return self._parent.execute(command, params)\n",
      "  File \"c:\\users\\seung\\appdata\\local\\programs\\python\\python37\\lib\\site-packages\\selenium\\webdriver\\remote\\webdriver.py\", line 321, in execute\n",
      "    self.error_handler.check_response(response)\n",
      "  File \"c:\\users\\seung\\appdata\\local\\programs\\python\\python37\\lib\\site-packages\\selenium\\webdriver\\remote\\errorhandler.py\", line 242, in check_response\n",
      "    raise exception_class(message, screen, stacktrace)\n",
      "selenium.common.exceptions.ElementClickInterceptedException: Message: element click intercepted: Element <img src=\"data:image/jpeg;base64,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\" data-deferred=\"1\" class=\"rg_i Q4LuWd\" jsname=\"Q4LuWd\" width=\"299\" height=\"169\" alt=\"Emma Watson sets the record straight on work and love life - CNN\" data-iml=\"1164.800000011921\" data-atf=\"true\"> is not clickable at point (850, 98). Other element would receive the click: <div jsaction=\"rcuQ6b:trigger.PIRLh;\" class=\"PKhmud sc-it tzVsfd\" role=\"listitem\">...</div>\n",
      "  (Session info: chrome=91.0.4472.124)\n",
      "\n",
      "\n"
     ]
    },
    {
     "name": "stderr",
     "output_type": "stream",
     "text": [
      "Exception in thread Thread-27:\n",
      "Traceback (most recent call last):\n",
      "  File \"c:\\users\\seung\\appdata\\local\\programs\\python\\python37\\lib\\threading.py\", line 917, in _bootstrap_inner\n",
      "    self.run()\n",
      "  File \"c:\\users\\seung\\appdata\\local\\programs\\python\\python37\\lib\\threading.py\", line 865, in run\n",
      "    self._target(*self._args, **self._kwargs)\n",
      "  File \"<ipython-input-6-2060372e6f98>\", line 38, in findI\n",
      "    urllib.request.urlretrieve(imgUrl, name + str(count) + \".jpg\")\n",
      "  File \"c:\\users\\seung\\appdata\\local\\programs\\python\\python37\\lib\\urllib\\request.py\", line 247, in urlretrieve\n",
      "    with contextlib.closing(urlopen(url, data)) as fp:\n",
      "  File \"c:\\users\\seung\\appdata\\local\\programs\\python\\python37\\lib\\urllib\\request.py\", line 222, in urlopen\n",
      "    return opener.open(url, data, timeout)\n",
      "  File \"c:\\users\\seung\\appdata\\local\\programs\\python\\python37\\lib\\urllib\\request.py\", line 531, in open\n",
      "    response = meth(req, response)\n",
      "  File \"c:\\users\\seung\\appdata\\local\\programs\\python\\python37\\lib\\urllib\\request.py\", line 641, in http_response\n",
      "    'http', request, response, code, msg, hdrs)\n",
      "  File \"c:\\users\\seung\\appdata\\local\\programs\\python\\python37\\lib\\urllib\\request.py\", line 569, in error\n",
      "    return self._call_chain(*args)\n",
      "  File \"c:\\users\\seung\\appdata\\local\\programs\\python\\python37\\lib\\urllib\\request.py\", line 503, in _call_chain\n",
      "    result = func(*args)\n",
      "  File \"c:\\users\\seung\\appdata\\local\\programs\\python\\python37\\lib\\urllib\\request.py\", line 649, in http_error_default\n",
      "    raise HTTPError(req.full_url, code, msg, hdrs, fp)\n",
      "urllib.error.HTTPError: HTTP Error 403: Forbidden\n",
      "\n",
      "Exception in thread Thread-29:\n",
      "Traceback (most recent call last):\n",
      "  File \"c:\\users\\seung\\appdata\\local\\programs\\python\\python37\\lib\\threading.py\", line 917, in _bootstrap_inner\n",
      "    self.run()\n",
      "  File \"c:\\users\\seung\\appdata\\local\\programs\\python\\python37\\lib\\threading.py\", line 865, in run\n",
      "    self._target(*self._args, **self._kwargs)\n",
      "  File \"<ipython-input-6-2060372e6f98>\", line 38, in findI\n",
      "    urllib.request.urlretrieve(imgUrl, name + str(count) + \".jpg\")\n",
      "  File \"c:\\users\\seung\\appdata\\local\\programs\\python\\python37\\lib\\urllib\\request.py\", line 247, in urlretrieve\n",
      "    with contextlib.closing(urlopen(url, data)) as fp:\n",
      "  File \"c:\\users\\seung\\appdata\\local\\programs\\python\\python37\\lib\\urllib\\request.py\", line 222, in urlopen\n",
      "    return opener.open(url, data, timeout)\n",
      "  File \"c:\\users\\seung\\appdata\\local\\programs\\python\\python37\\lib\\urllib\\request.py\", line 531, in open\n",
      "    response = meth(req, response)\n",
      "  File \"c:\\users\\seung\\appdata\\local\\programs\\python\\python37\\lib\\urllib\\request.py\", line 641, in http_response\n",
      "    'http', request, response, code, msg, hdrs)\n",
      "  File \"c:\\users\\seung\\appdata\\local\\programs\\python\\python37\\lib\\urllib\\request.py\", line 569, in error\n",
      "    return self._call_chain(*args)\n",
      "  File \"c:\\users\\seung\\appdata\\local\\programs\\python\\python37\\lib\\urllib\\request.py\", line 503, in _call_chain\n",
      "    result = func(*args)\n",
      "  File \"c:\\users\\seung\\appdata\\local\\programs\\python\\python37\\lib\\urllib\\request.py\", line 649, in http_error_default\n",
      "    raise HTTPError(req.full_url, code, msg, hdrs, fp)\n",
      "urllib.error.HTTPError: HTTP Error 403: Forbidden\n",
      "\n"
     ]
    },
    {
     "name": "stdout",
     "output_type": "stream",
     "text": [
      "emma watson------------------ complete\n",
      "CRAWLING COMPLETE\n"
     ]
    }
   ],
   "source": [
    "#name = 'daniel radcliffe' #검색어\n",
    "how_many = 10 #가져올 사진 수\n",
    "path = 'C:\\\\Users\\\\seung\\\\desktop\\\\data-main\\\\' #해당 코드 파일 위치 \n",
    "\n",
    "from selenium import webdriver\n",
    "from urllib.request import urlopen\n",
    "#from bs4 import BeautifulSoup as bs\n",
    "from urllib.parse import quote_plus\n",
    "from selenium.webdriver.common.keys import Keys\n",
    "import urllib.request\n",
    "import time\n",
    "import os\n",
    "import shutil\n",
    "\n",
    "import threading\n",
    "import time\n",
    "from apscheduler.schedulers.background import BackgroundScheduler\n",
    "\n",
    "import warnings\n",
    "warnings.filterwarnings('ignore')\n",
    "\n",
    "from PIL import Image\n",
    "from autocrop import Cropper\n",
    "\n",
    "cropper = Cropper()\n",
    "\n",
    "def start_findI():\n",
    "    t = threading.Thread(target=findI)\n",
    "    t.start()\n",
    "    return t\n",
    "\n",
    "def findI():\n",
    "    findI = threading.currentThread()\n",
    "    image.click()\n",
    "    time.sleep(1.7)\n",
    "    #xpath\n",
    "    imgUrl = driver.find_element_by_xpath('/html/body/div[2]/c-wiz/div[3]/div[2]/div[3]/div/div/div[3]/div[2]/c-wiz/div/div/div[1]/div/div/a/img').get_attribute(\"src\")\n",
    "    urllib.request.urlretrieve(imgUrl, name + str(count) + \".jpg\")\n",
    "    #print(name + str(count) + \".jpg --- find\")\n",
    "\n",
    "sched = BackgroundScheduler()\n",
    "sched.start()\n",
    "for name in target:\n",
    "    driver = webdriver.Chrome('chromedriver.exe')\n",
    "    driver.get(\"https://www.google.co.kr/imghp?hl=ko&ogbl\")\n",
    "    elem = driver.find_element_by_name(\"q\")\n",
    "    elem.send_keys(name)\n",
    "    elem.send_keys(Keys.RETURN)\n",
    " \n",
    "    SCROLL_PAUSE_TIME = 1\n",
    " \n",
    "    last_height = driver.execute_script(\"return document.body.scrollHeight\")\n",
    " \n",
    "    while True: #페이지 로딩\n",
    "        driver.execute_script(\"window.scrollTo(0, document.body.scrollHeight);\")\n",
    "        time.sleep(SCROLL_PAUSE_TIME)\n",
    "        new_height = driver.execute_script(\"return document.body.scrollHeight\")\n",
    "        if new_height == last_height:\n",
    "            try:\n",
    "                driver.find_element_by_css_selector(\".mye4qd\").click()\n",
    "            except:\n",
    "                break\n",
    "        last_height = new_height\n",
    " \n",
    "    images = driver.find_elements_by_css_selector(\".rg_i.Q4LuWd\")\n",
    "    print(name + ' crawling ready') \n",
    "    \n",
    "    try: #name 폴더 만들기\n",
    "        os.makedirs('./' + name)\n",
    "    except:\n",
    "        pass\n",
    "    \n",
    "\n",
    "    count = 1\n",
    "    trycount = 0\n",
    "    for image in images: #로딩된 페이지에서 크롤링\n",
    "        if(sched.running): #스레드가 작동중이지 않으면 멈춤\n",
    "            trycount += 1\n",
    "            try:\n",
    "                t = start_findI()\n",
    "            except:\n",
    "                if(trycount > how_many*3):\n",
    "                    print(name + ' crawling ERROR')\n",
    "                    break\n",
    "                else:\n",
    "                    pass\n",
    "            finally:\n",
    "                time.sleep(3)\n",
    "                try:     \n",
    "                    t.do_run = False             \n",
    "                except:\n",
    "                    pass\n",
    "                finally:\n",
    "                    try:\n",
    "                        if(os.path.isfile('{0}{1}.jpg'.format(path, name + str(count)))): #파일 저장 확인 후 이동 시키고 카운트업\n",
    "                            cropped_array = cropper.crop('{0}{1}.jpg'.format(path, name + str(count)))\n",
    "                            if cropped_array.any():\n",
    "                                cropped_image = Image.fromarray(cropped_array)\n",
    "                                cropped_image.save('{0}{1}.jpg'.format(path, name + str(count)))\n",
    "                            from_ = '{0}{1}.jpg'.format(path, name + str(count))\n",
    "                            to_ = '{0}{1}\\{2}.jpg'.format(path, name, name + '_0' + str(count))\n",
    "                            shutil.move(from_, to_)\n",
    "                            count += 1\n",
    "                        \n",
    "                        \n",
    "                    except:\n",
    "                        pass\n",
    "                    finally:\n",
    "                        if(count > how_many):\n",
    "                            break     \n",
    "        else:\n",
    "            break\n",
    "    try:\n",
    "        driver.close()\n",
    "    except:\n",
    "        pass\n",
    "    finally:\n",
    "        print(name + '------------------ complete')\n",
    "        \n",
    "print('CRAWLING COMPLETE')"
   ]
  }
 ],
 "metadata": {
  "interpreter": {
   "hash": "1bda1fcdb982b461d9fc685a9168df8188fa403d38f48632e362c4ea54b4ede0"
  },
  "kernelspec": {
   "display_name": "Python 3",
   "language": "python",
   "name": "python3"
  },
  "language_info": {
   "codemirror_mode": {
    "name": "ipython",
    "version": 3
   },
   "file_extension": ".py",
   "mimetype": "text/x-python",
   "name": "python",
   "nbconvert_exporter": "python",
   "pygments_lexer": "ipython3",
   "version": "3.7.3"
  }
 },
 "nbformat": 4,
 "nbformat_minor": 4
}

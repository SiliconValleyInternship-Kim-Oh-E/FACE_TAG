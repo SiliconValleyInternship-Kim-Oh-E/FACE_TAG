{
 "cells": [
  {
   "cell_type": "code",
   "execution_count": 1,
   "source": [
    "target = [\r\n",
    "    'daniel radcliffe',\r\n",
    "]\r\n"
   ],
   "outputs": [],
   "metadata": {}
  },
  {
   "cell_type": "code",
   "execution_count": 2,
   "source": [
    "pip install selenium"
   ],
   "outputs": [
    {
     "output_type": "stream",
     "name": "stdout",
     "text": [
      "Requirement already satisfied: selenium in c:\\users\\seung\\appdata\\local\\programs\\python\\python37\\lib\\site-packages (3.141.0)\n",
      "Requirement already satisfied: urllib3 in c:\\users\\seung\\appdata\\local\\programs\\python\\python37\\lib\\site-packages (from selenium) (1.24.3)\n",
      "Note: you may need to restart the kernel to use updated packages.\n"
     ]
    },
    {
     "output_type": "stream",
     "name": "stderr",
     "text": [
      "WARNING: You are using pip version 21.1.3; however, version 21.2.1 is available.\n",
      "You should consider upgrading via the 'C:\\Users\\seung\\AppData\\Local\\Programs\\Python\\Python37\\python.exe -m pip install --upgrade pip' command.\n"
     ]
    }
   ],
   "metadata": {}
  },
  {
   "cell_type": "code",
   "execution_count": 3,
   "source": [
    "pip install apscheduler"
   ],
   "outputs": [
    {
     "output_type": "stream",
     "name": "stdout",
     "text": [
      "Requirement already satisfied: apscheduler in c:\\users\\seung\\appdata\\local\\programs\\python\\python37\\lib\\site-packages (3.7.0)\n",
      "Requirement already satisfied: six>=1.4.0 in c:\\users\\seung\\appdata\\local\\programs\\python\\python37\\lib\\site-packages (from apscheduler) (1.12.0)\n",
      "Requirement already satisfied: tzlocal~=2.0 in c:\\users\\seung\\appdata\\local\\programs\\python\\python37\\lib\\site-packages (from apscheduler) (2.1)\n",
      "Requirement already satisfied: setuptools>=0.7 in c:\\users\\seung\\appdata\\local\\programs\\python\\python37\\lib\\site-packages (from apscheduler) (57.4.0)\n",
      "Requirement already satisfied: pytz in c:\\users\\seung\\appdata\\local\\programs\\python\\python37\\lib\\site-packages (from apscheduler) (2021.1)\n",
      "Note: you may need to restart the kernel to use updated packages.\n"
     ]
    },
    {
     "output_type": "stream",
     "name": "stderr",
     "text": [
      "WARNING: You are using pip version 21.1.3; however, version 21.2.1 is available.\n",
      "You should consider upgrading via the 'C:\\Users\\seung\\AppData\\Local\\Programs\\Python\\Python37\\python.exe -m pip install --upgrade pip' command.\n"
     ]
    }
   ],
   "metadata": {}
  },
  {
   "cell_type": "code",
   "execution_count": 4,
   "source": [
    "#크롤링이 안될때 xpath 변경 확인 https://hidden-loca.tistory.com/25"
   ],
   "outputs": [],
   "metadata": {}
  },
  {
   "cell_type": "code",
   "execution_count": 5,
   "source": [
    "how_many = 5 #가져올 사진 수\r\n",
    "path = '.\\\\' #코드 파일 위치 \r\n",
    "\r\n",
    "from selenium import webdriver\r\n",
    "from urllib.request import urlopen\r\n",
    "#from bs4 import BeautifulSoup as bs\r\n",
    "from urllib.parse import quote_plus\r\n",
    "from selenium.webdriver.common.keys import Keys\r\n",
    "import urllib.request\r\n",
    "import time\r\n",
    "import os\r\n",
    "import shutil\r\n",
    "\r\n",
    "import threading\r\n",
    "import time\r\n",
    "from apscheduler.schedulers.background import BackgroundScheduler\r\n",
    "\r\n",
    "import warnings\r\n",
    "warnings.filterwarnings('ignore')\r\n",
    "\r\n",
    "try: #크롤링 원본 이미지 저장 폴더 만들기\r\n",
    "     os.makedirs('./' + orig )\r\n",
    "except:\r\n",
    "     pass\r\n",
    "    \r\n",
    "       \r\n",
    "def start_findI():\r\n",
    "    t = threading.Thread(target=findI)\r\n",
    "    t.start()\r\n",
    "    return t\r\n",
    "\r\n",
    "def findI():\r\n",
    "    findI = threading.currentThread()\r\n",
    "    image.click()\r\n",
    "    time.sleep(1.7)\r\n",
    "    #xpath\r\n",
    "    imgUrl = driver.find_element_by_xpath('/html/body/div[2]/c-wiz/div[3]/div[2]/div[3]/div/div/div[3]/div[2]/c-wiz/div/div/div[1]/div/div/a/img').get_attribute(\"src\")\r\n",
    "    urllib.request.urlretrieve(imgUrl, name + str(count) + \".jpg\")\r\n",
    "    #print(name + str(count) + \".jpg --- find\")\r\n",
    "\r\n",
    "sched = BackgroundScheduler()\r\n",
    "sched.start()\r\n",
    "for name in target:\r\n",
    "    driver = webdriver.Chrome('chromedriver.exe')\r\n",
    "    driver.get(\"https://www.google.co.kr/imghp?hl=ko&ogbl\")\r\n",
    "    elem = driver.find_element_by_name(\"q\")\r\n",
    "    elem.send_keys(name)\r\n",
    "    elem.send_keys(Keys.RETURN)\r\n",
    " \r\n",
    "    SCROLL_PAUSE_TIME = 1\r\n",
    " \r\n",
    "    last_height = driver.execute_script(\"return document.body.scrollHeight\")\r\n",
    " \r\n",
    "    while True: #페이지 로딩\r\n",
    "        driver.execute_script(\"window.scrollTo(0, document.body.scrollHeight);\")\r\n",
    "        time.sleep(SCROLL_PAUSE_TIME)\r\n",
    "        new_height = driver.execute_script(\"return document.body.scrollHeight\")\r\n",
    "        if new_height == last_height:\r\n",
    "            try:\r\n",
    "                driver.find_element_by_css_selector(\".mye4qd\").click()\r\n",
    "            except:\r\n",
    "                break\r\n",
    "        last_height = new_height\r\n",
    " \r\n",
    "    images = driver.find_elements_by_css_selector(\".rg_i.Q4LuWd\")\r\n",
    "    print(name + ' crawling ready') \r\n",
    "    \r\n",
    "    try: #name 폴더 만들기\r\n",
    "        os.makedirs('./orig/' + name)\r\n",
    "    except:\r\n",
    "        pass\r\n",
    "    \r\n",
    "\r\n",
    "    count = 1\r\n",
    "    trycount = 0\r\n",
    "    for image in images: #로딩된 페이지에서 크롤링\r\n",
    "        if(sched.running): #스레드가 작동중이지 않으면 멈춤\r\n",
    "            trycount += 1\r\n",
    "            try:\r\n",
    "                t = start_findI()\r\n",
    "            except:\r\n",
    "                if(trycount > how_many*3):\r\n",
    "                    print(name + ' crawling ERROR')\r\n",
    "                    break\r\n",
    "                else:\r\n",
    "                    pass\r\n",
    "            finally:\r\n",
    "                time.sleep(3)\r\n",
    "                try:     \r\n",
    "                    t.do_run = False             \r\n",
    "                except:\r\n",
    "                    pass\r\n",
    "                finally:\r\n",
    "                    try:\r\n",
    "                        if(os.path.isfile('{0}{1}.jpg'.format(path, name + str(count)))): #파일 저장 확인 후 이동 시키고 카운트업\r\n",
    "                            from_ = '{0}{1}.jpg'.format(path, name + str(count))\r\n",
    "                            to_ = '{0}{1}\\{2}.jpg'.format(path+\"orig\\\\\", name, name + '_0' + str(count))\r\n",
    "                            shutil.move(from_, to_)\r\n",
    "                            count += 1\r\n",
    "                    except:\r\n",
    "                        pass\r\n",
    "                    finally:\r\n",
    "                        if(count > how_many):\r\n",
    "                            break     \r\n",
    "        else:\r\n",
    "            break\r\n",
    "    try:\r\n",
    "        driver.close()\r\n",
    "    except:\r\n",
    "        pass\r\n",
    "    finally:\r\n",
    "        print(name + '------------------ complete')\r\n",
    "        \r\n",
    "print('CRAWLING COMPLETE')"
   ],
   "outputs": [
    {
     "output_type": "stream",
     "name": "stdout",
     "text": [
      "daniel radcliffe crawling ready\n",
      "daniel radcliffe------------------ complete\n",
      "CRAWLING COMPLETE\n"
     ]
    }
   ],
   "metadata": {
    "jupyter": {
     "outputs_hidden": true
    },
    "tags": []
   }
  },
  {
   "cell_type": "code",
   "execution_count": 6,
   "source": [
    "pip install opencv-python"
   ],
   "outputs": [
    {
     "output_type": "stream",
     "name": "stdout",
     "text": [
      "Requirement already satisfied: opencv-python in c:\\users\\seung\\appdata\\local\\programs\\python\\python37\\lib\\site-packages (4.5.2.54)\n",
      "Requirement already satisfied: numpy>=1.14.5 in c:\\users\\seung\\appdata\\local\\programs\\python\\python37\\lib\\site-packages (from opencv-python) (1.21.1)\n",
      "Note: you may need to restart the kernel to use updated packages.\n"
     ]
    },
    {
     "output_type": "stream",
     "name": "stderr",
     "text": [
      "WARNING: You are using pip version 21.1.3; however, version 21.2.1 is available.\n",
      "You should consider upgrading via the 'C:\\Users\\seung\\AppData\\Local\\Programs\\Python\\Python37\\python.exe -m pip install --upgrade pip' command.\n"
     ]
    }
   ],
   "metadata": {}
  },
  {
   "cell_type": "code",
   "execution_count": 7,
   "source": [
    "import numpy as np \r\n",
    "import cv2\r\n",
    "\r\n",
    "faceCascade = cv2.CascadeClassifier(cv2.data.haarcascades + 'haarcascade_frontalface_default.xml')\r\n",
    "\r\n",
    "for name in target:\r\n",
    "    try:  os.makedirs('./cropped/' + name)\r\n",
    "    except: pass\r\n",
    "    cnt=1\r\n",
    "    for i in range(1,how_many+1):\r\n",
    "        image = cv2.imread('{0}{1}\\{2}.jpg'.format(path+\"orig\\\\\", name, name + '_0' + str(i))) \r\n",
    "        gray = cv2.cvtColor(image, cv2.COLOR_BGR2GRAY) \r\n",
    "        faces = faceCascade.detectMultiScale( gray, scaleFactor=1.3, minNeighbors=5, minSize=(30, 30) )        \r\n",
    "        for (x,y,w,h) in faces:\r\n",
    "            cropped=image[y:y+h, x:x+w].copy()\r\n",
    "            cv2.imwrite('{0}{1}\\{2}.jpg'.format(path+\"cropped\\\\\", name, name + '_0' + str(cnt)), cropped)\r\n",
    "            cnt+=1"
   ],
   "outputs": [],
   "metadata": {}
  }
 ],
 "metadata": {
  "interpreter": {
   "hash": "c942c0b195b064d3c5026bb423a9470702ddf27281c7d975067c07ea6691d7a4"
  },
  "kernelspec": {
   "name": "python3",
   "display_name": "Python 3.7.3 64-bit"
  },
  "language_info": {
   "codemirror_mode": {
    "name": "ipython",
    "version": 3
   },
   "file_extension": ".py",
   "mimetype": "text/x-python",
   "name": "python",
   "nbconvert_exporter": "python",
   "pygments_lexer": "ipython3",
   "version": "3.7.3"
  }
 },
 "nbformat": 4,
 "nbformat_minor": 4
}